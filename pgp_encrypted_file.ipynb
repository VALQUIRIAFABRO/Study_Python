{
  "nbformat": 4,
  "nbformat_minor": 0,
  "metadata": {
    "colab": {
      "provenance": [],
      "authorship_tag": "ABX9TyOQ4dPmna9/+wpEzXudcReZ",
      "include_colab_link": true
    },
    "kernelspec": {
      "name": "python3",
      "display_name": "Python 3"
    },
    "language_info": {
      "name": "python"
    }
  },
  "cells": [
    {
      "cell_type": "markdown",
      "metadata": {
        "id": "view-in-github",
        "colab_type": "text"
      },
      "source": [
        "<a href=\"https://colab.research.google.com/github/VALQUIRIAFABRO/Study_Python/blob/master/pgp_encrypted_file.ipynb\" target=\"_parent\"><img src=\"https://colab.research.google.com/assets/colab-badge.svg\" alt=\"Open In Colab\"/></a>"
      ]
    },
    {
      "cell_type": "markdown",
      "source": [
        "## PGP-encrypted file\n",
        "\n",
        "Python function that decrypts a PGP-encrypted file named data.pgp and saves the decrypted content to a file named data.csv using the gnupg library.\n",
        "\n",
        "Make sure to replace 'your_passphrase' with the actual passphrase used for decryption. Ensure that the gnupg library is installed in your environment (pip install python-gnupg)."
      ],
      "metadata": {
        "id": "6cDGQF1Ovfbz"
      }
    },
    {
      "cell_type": "code",
      "execution_count": null,
      "metadata": {
        "id": "09DxjXcBva6g"
      },
      "outputs": [],
      "source": [
        "!pip install python-gnupg pandas hdfs"
      ]
    },
    {
      "cell_type": "code",
      "source": [
        "# Since Google Colab doesn’t provide a traditional terminal interface to handle interactive commands like gpg --gen-key, we’ll need to work around this limitation.\n",
        "# Generate GPG Key Locally: On your local machine, open a terminal and run\n",
        "\n",
        "# Generate key\n",
        "# gpg --gen-key\n",
        "\n",
        "# list keys\n",
        "# gpg --list-keys\n",
        "\n",
        "# Export the public key:\n",
        "# gpg --export -a \"your_email@example.com\" > public_key.asc\n",
        "\n",
        "# Export the private key:\n",
        "# gpg --export-secret-key -a \"your_email@example.com\" > private_key.asc"
      ],
      "metadata": {
        "id": "SWiOa7HF0A_c"
      },
      "execution_count": null,
      "outputs": []
    },
    {
      "cell_type": "code",
      "source": [
        "#Upload keys to Google Colab\n",
        "from google.colab import files\n",
        "\n",
        "uploaded = files.upload()"
      ],
      "metadata": {
        "colab": {
          "base_uri": "https://localhost:8080/",
          "height": 246
        },
        "id": "ie1w3uh9ADa_",
        "outputId": "15b412f4-ac35-41e9-aaa2-f221cf8211cd"
      },
      "execution_count": null,
      "outputs": [
        {
          "output_type": "display_data",
          "data": {
            "text/plain": [
              "<IPython.core.display.HTML object>"
            ],
            "text/html": [
              "\n",
              "     <input type=\"file\" id=\"files-b05b1011-52e2-4102-9156-9918e373e843\" name=\"files[]\" multiple disabled\n",
              "        style=\"border:none\" />\n",
              "     <output id=\"result-b05b1011-52e2-4102-9156-9918e373e843\">\n",
              "      Upload widget is only available when the cell has been executed in the\n",
              "      current browser session. Please rerun this cell to enable.\n",
              "      </output>\n",
              "      <script>// Copyright 2017 Google LLC\n",
              "//\n",
              "// Licensed under the Apache License, Version 2.0 (the \"License\");\n",
              "// you may not use this file except in compliance with the License.\n",
              "// You may obtain a copy of the License at\n",
              "//\n",
              "//      http://www.apache.org/licenses/LICENSE-2.0\n",
              "//\n",
              "// Unless required by applicable law or agreed to in writing, software\n",
              "// distributed under the License is distributed on an \"AS IS\" BASIS,\n",
              "// WITHOUT WARRANTIES OR CONDITIONS OF ANY KIND, either express or implied.\n",
              "// See the License for the specific language governing permissions and\n",
              "// limitations under the License.\n",
              "\n",
              "/**\n",
              " * @fileoverview Helpers for google.colab Python module.\n",
              " */\n",
              "(function(scope) {\n",
              "function span(text, styleAttributes = {}) {\n",
              "  const element = document.createElement('span');\n",
              "  element.textContent = text;\n",
              "  for (const key of Object.keys(styleAttributes)) {\n",
              "    element.style[key] = styleAttributes[key];\n",
              "  }\n",
              "  return element;\n",
              "}\n",
              "\n",
              "// Max number of bytes which will be uploaded at a time.\n",
              "const MAX_PAYLOAD_SIZE = 100 * 1024;\n",
              "\n",
              "function _uploadFiles(inputId, outputId) {\n",
              "  const steps = uploadFilesStep(inputId, outputId);\n",
              "  const outputElement = document.getElementById(outputId);\n",
              "  // Cache steps on the outputElement to make it available for the next call\n",
              "  // to uploadFilesContinue from Python.\n",
              "  outputElement.steps = steps;\n",
              "\n",
              "  return _uploadFilesContinue(outputId);\n",
              "}\n",
              "\n",
              "// This is roughly an async generator (not supported in the browser yet),\n",
              "// where there are multiple asynchronous steps and the Python side is going\n",
              "// to poll for completion of each step.\n",
              "// This uses a Promise to block the python side on completion of each step,\n",
              "// then passes the result of the previous step as the input to the next step.\n",
              "function _uploadFilesContinue(outputId) {\n",
              "  const outputElement = document.getElementById(outputId);\n",
              "  const steps = outputElement.steps;\n",
              "\n",
              "  const next = steps.next(outputElement.lastPromiseValue);\n",
              "  return Promise.resolve(next.value.promise).then((value) => {\n",
              "    // Cache the last promise value to make it available to the next\n",
              "    // step of the generator.\n",
              "    outputElement.lastPromiseValue = value;\n",
              "    return next.value.response;\n",
              "  });\n",
              "}\n",
              "\n",
              "/**\n",
              " * Generator function which is called between each async step of the upload\n",
              " * process.\n",
              " * @param {string} inputId Element ID of the input file picker element.\n",
              " * @param {string} outputId Element ID of the output display.\n",
              " * @return {!Iterable<!Object>} Iterable of next steps.\n",
              " */\n",
              "function* uploadFilesStep(inputId, outputId) {\n",
              "  const inputElement = document.getElementById(inputId);\n",
              "  inputElement.disabled = false;\n",
              "\n",
              "  const outputElement = document.getElementById(outputId);\n",
              "  outputElement.innerHTML = '';\n",
              "\n",
              "  const pickedPromise = new Promise((resolve) => {\n",
              "    inputElement.addEventListener('change', (e) => {\n",
              "      resolve(e.target.files);\n",
              "    });\n",
              "  });\n",
              "\n",
              "  const cancel = document.createElement('button');\n",
              "  inputElement.parentElement.appendChild(cancel);\n",
              "  cancel.textContent = 'Cancel upload';\n",
              "  const cancelPromise = new Promise((resolve) => {\n",
              "    cancel.onclick = () => {\n",
              "      resolve(null);\n",
              "    };\n",
              "  });\n",
              "\n",
              "  // Wait for the user to pick the files.\n",
              "  const files = yield {\n",
              "    promise: Promise.race([pickedPromise, cancelPromise]),\n",
              "    response: {\n",
              "      action: 'starting',\n",
              "    }\n",
              "  };\n",
              "\n",
              "  cancel.remove();\n",
              "\n",
              "  // Disable the input element since further picks are not allowed.\n",
              "  inputElement.disabled = true;\n",
              "\n",
              "  if (!files) {\n",
              "    return {\n",
              "      response: {\n",
              "        action: 'complete',\n",
              "      }\n",
              "    };\n",
              "  }\n",
              "\n",
              "  for (const file of files) {\n",
              "    const li = document.createElement('li');\n",
              "    li.append(span(file.name, {fontWeight: 'bold'}));\n",
              "    li.append(span(\n",
              "        `(${file.type || 'n/a'}) - ${file.size} bytes, ` +\n",
              "        `last modified: ${\n",
              "            file.lastModifiedDate ? file.lastModifiedDate.toLocaleDateString() :\n",
              "                                    'n/a'} - `));\n",
              "    const percent = span('0% done');\n",
              "    li.appendChild(percent);\n",
              "\n",
              "    outputElement.appendChild(li);\n",
              "\n",
              "    const fileDataPromise = new Promise((resolve) => {\n",
              "      const reader = new FileReader();\n",
              "      reader.onload = (e) => {\n",
              "        resolve(e.target.result);\n",
              "      };\n",
              "      reader.readAsArrayBuffer(file);\n",
              "    });\n",
              "    // Wait for the data to be ready.\n",
              "    let fileData = yield {\n",
              "      promise: fileDataPromise,\n",
              "      response: {\n",
              "        action: 'continue',\n",
              "      }\n",
              "    };\n",
              "\n",
              "    // Use a chunked sending to avoid message size limits. See b/62115660.\n",
              "    let position = 0;\n",
              "    do {\n",
              "      const length = Math.min(fileData.byteLength - position, MAX_PAYLOAD_SIZE);\n",
              "      const chunk = new Uint8Array(fileData, position, length);\n",
              "      position += length;\n",
              "\n",
              "      const base64 = btoa(String.fromCharCode.apply(null, chunk));\n",
              "      yield {\n",
              "        response: {\n",
              "          action: 'append',\n",
              "          file: file.name,\n",
              "          data: base64,\n",
              "        },\n",
              "      };\n",
              "\n",
              "      let percentDone = fileData.byteLength === 0 ?\n",
              "          100 :\n",
              "          Math.round((position / fileData.byteLength) * 100);\n",
              "      percent.textContent = `${percentDone}% done`;\n",
              "\n",
              "    } while (position < fileData.byteLength);\n",
              "  }\n",
              "\n",
              "  // All done.\n",
              "  yield {\n",
              "    response: {\n",
              "      action: 'complete',\n",
              "    }\n",
              "  };\n",
              "}\n",
              "\n",
              "scope.google = scope.google || {};\n",
              "scope.google.colab = scope.google.colab || {};\n",
              "scope.google.colab._files = {\n",
              "  _uploadFiles,\n",
              "  _uploadFilesContinue,\n",
              "};\n",
              "})(self);\n",
              "</script> "
            ]
          },
          "metadata": {}
        },
        {
          "output_type": "stream",
          "name": "stdout",
          "text": [
            "Saving private_key.asc to private_key.asc\n",
            "Saving public_key.asc to public_key.asc\n",
            "gpg: [don't know]: partial length invalid for packet type 63\n",
            "gpg: read_block: read error: Invalid packet\n",
            "gpg: import from 'public_key.asc' failed: Invalid keyring\n",
            "gpg: Total number processed: 0\n",
            "gpg: [don't know]: partial length invalid for packet type 63\n",
            "gpg: read_block: read error: Invalid packet\n",
            "gpg: import from 'private_key.asc' failed: Invalid keyring\n",
            "gpg: Total number processed: 0\n"
          ]
        }
      ]
    },
    {
      "cell_type": "markdown",
      "source": [],
      "metadata": {
        "id": "WDlDsEEQEhLu"
      }
    },
    {
      "cell_type": "code",
      "source": [
        "# Upload Your Keys to Google Colab: public_key.asc and private_key.asc files to your Colab environment\n",
        "# The ideal encoding for GPG keys is UTF-8\n",
        "\n",
        "!gpg --import public_key.asc\n",
        "!gpg --import private_key.asc\n"
      ],
      "metadata": {
        "id": "_yRB-Zah34JC"
      },
      "execution_count": null,
      "outputs": []
    },
    {
      "cell_type": "markdown",
      "source": [
        "Function that generates sample data and saves it as an csv and encrypted PGP file locally."
      ],
      "metadata": {
        "id": "QSLRul7Ryznz"
      }
    },
    {
      "cell_type": "code",
      "source": [
        "import os\n",
        "\n",
        "os.makedirs('/content/.gnupg', exist_ok=True)\n",
        "\n",
        "gpg = gnupg.GPG()\n",
        "\n",
        "gpg = gnupg.GPG(verbose=True)\n",
        "\n",
        "!chmod 700 /content/.gnupg\n"
      ],
      "metadata": {
        "colab": {
          "base_uri": "https://localhost:8080/"
        },
        "id": "GFJCQ3q1GVnS",
        "outputId": "5bedcd04-177e-482b-d549-f15f4dcb85cf"
      },
      "execution_count": null,
      "outputs": [
        {
          "output_type": "stream",
          "name": "stdout",
          "text": [
            "gpg --status-fd 2 --no-tty --no-verbose --fixed-list-mode --batch --with-colons --list-config --with-colons\n"
          ]
        }
      ]
    },
    {
      "cell_type": "code",
      "source": [
        "import os\n",
        "import pandas as pd\n",
        "import random\n",
        "import gnupg\n",
        "from datetime import datetime, timedelta\n",
        "\n",
        "def generate_pgp_encrypted_file():\n",
        "    # Sample data generation\n",
        "    base_time = datetime.now()\n",
        "    data = {\n",
        "        'name': [f'Name{i}' for i in range(1, 11)],\n",
        "        'age': [random.randint(20, 60) for _ in range(10)],\n",
        "        'profession': [f'Profession{i}' for i in range(1, 11)],\n",
        "        'years_of_experience': [random.randint(1, 30) for _ in range(10)],\n",
        "        'activity': [f'Activity{i}' for i in range(1, 11)],\n",
        "        'datetime': [base_time + timedelta(seconds=i) for i in range(10)]\n",
        "    }\n",
        "    df = pd.DataFrame(data)\n",
        "\n",
        "    # Create a unique filename with datetime\n",
        "    current_time = datetime.now().strftime(\"%Y%m%d_%H%M%S\")\n",
        "    csv_filename = f'data_{current_time}.csv'\n",
        "    df.to_csv(csv_filename, index=False)\n",
        "\n",
        "    # Ensure the gnupghome directory exists and set permissions\n",
        "    os.makedirs('/content/.gnupg', exist_ok=True)\n",
        "    os.system('chmod 700 /content/.gnupg')  # Set permissions\n",
        "\n",
        "    # Initialize GPG\n",
        "    gpg = gnupg.GPG(gnupghome='/content/.gnupg')\n",
        "\n",
        "    # Import the keys with passphrase\n",
        "    passphrase = 'passphrase'          #'your_passphrase_here'\n",
        "    with open('public_key.asc', 'r') as f:\n",
        "        import_result = gpg.import_keys(f.read())\n",
        "\n",
        "    with open('private_key.asc', 'r') as f:\n",
        "        gpg.import_keys(f.read(), passphrase=passphrase)\n",
        "\n",
        "    # Get the fingerprint of the imported key\n",
        "    fingerprints = [key['fingerprint'] for key in gpg.list_keys()]\n",
        "    if fingerprints:\n",
        "        # Trust the key with the fingerprint\n",
        "        for fingerprint in fingerprints:\n",
        "            gpg.trust_keys(fingerprint, 'TRUST_ULTIMATE')\n",
        "\n",
        "        # Encrypt the file\n",
        "        with open(csv_filename, 'rb') as f:\n",
        "            status = gpg.encrypt_file(\n",
        "                f,\n",
        "                recipients=['your_email@email.com'], # Replace with the actual recipient's email\n",
        "                output=f'data_{current_time}.gpg'\n",
        "            )\n",
        "\n",
        "        if status.ok:\n",
        "            print('File encrypted successfully.')\n",
        "        else:\n",
        "            print('Encryption failed:', status.stderr)\n",
        "    else:\n",
        "        print('No fingerprints found. Key import might have failed.')\n",
        "\n",
        "generate_pgp_encrypted_file()\n"
      ],
      "metadata": {
        "colab": {
          "base_uri": "https://localhost:8080/"
        },
        "id": "ype1-bhTHvvP",
        "outputId": "172e8cc3-17b2-46dc-d722-ce6627a9370e"
      },
      "execution_count": null,
      "outputs": [
        {
          "output_type": "stream",
          "name": "stdout",
          "text": [
            "File encrypted successfully.\n"
          ]
        }
      ]
    },
    {
      "cell_type": "markdown",
      "source": [
        "Decrypt the file"
      ],
      "metadata": {
        "id": "sVIrmlQI0-nT"
      }
    },
    {
      "cell_type": "code",
      "source": [
        "import os\n",
        "import gnupg\n",
        "\n",
        "def import_keys(gpg, public_key_file, private_key_file, passphrase):\n",
        "    # Import the public key\n",
        "    with open(public_key_file, 'r') as f:\n",
        "        gpg.import_keys(f.read())\n",
        "\n",
        "    # Import the private key with passphrase\n",
        "    with open(private_key_file, 'r') as f:\n",
        "        gpg.import_keys(f.read(), passphrase=passphrase)\n",
        "\n",
        "    # List all keys in the keyring to verify\n",
        "    print(\"Public Keys:\", gpg.list_keys())\n",
        "    print(\"Private Keys:\", gpg.list_keys(secret=True))\n",
        "\n",
        "def decrypt_pgp_file(gpg, input_file, output_file, passphrase):\n",
        "    # Open the encrypted file\n",
        "    with open(input_file, 'rb') as f:\n",
        "        # Decrypt the file\n",
        "        status = gpg.decrypt_file(f, passphrase=passphrase, output=output_file)\n",
        "\n",
        "    # Check the status of the decryption\n",
        "    if status.ok:\n",
        "        print(f\"File decrypted successfully. Saved as: {output_file}\")\n",
        "    else:\n",
        "        print(f\"Failed to decrypt the file. Status: {status.status}\")\n",
        "        print(f\"Error message: {status.stderr}\")\n",
        "\n",
        "# Initialize the GnuPG object\n",
        "gpg = gnupg.GPG(gnupghome='/content/.gnupg')\n",
        "\n",
        "# Set the passphrase for the private key\n",
        "passphrase = 'passphrase' # Replace with your actual passphrase\n",
        "\n",
        "# Import the keys\n",
        "import_keys(gpg, 'public_key.asc', 'private_key.asc', passphrase)\n",
        "\n",
        "# Example usage to decrypt the file\n",
        "input_file = 'data_20250121_230851.gpg' # Replace with your gpg file to be decrypt\n",
        "output_file = 'finaldata.csv'\n",
        "\n",
        "decrypt_pgp_file(gpg, input_file, output_file, passphrase)"
      ],
      "metadata": {
        "id": "BzhuZ9yeJLFZ"
      },
      "execution_count": null,
      "outputs": []
    },
    {
      "cell_type": "code",
      "source": [
        "!pip install hdfs"
      ],
      "metadata": {
        "colab": {
          "base_uri": "https://localhost:8080/"
        },
        "id": "JD68yclpKT6Y",
        "outputId": "ffbe93cd-0900-4ccf-c36e-256621797ab3"
      },
      "execution_count": 15,
      "outputs": [
        {
          "output_type": "stream",
          "name": "stdout",
          "text": [
            "Collecting hdfs\n",
            "  Downloading hdfs-2.7.3.tar.gz (43 kB)\n",
            "\u001b[?25l     \u001b[90m━━━━━━━━━━━━━━━━━━━━━━━━━━━━━━━━━━━━━━━━\u001b[0m \u001b[32m0.0/43.5 kB\u001b[0m \u001b[31m?\u001b[0m eta \u001b[36m-:--:--\u001b[0m\r\u001b[2K     \u001b[90m━━━━━━━━━━━━━━━━━━━━━━━━━━━━━━━━━━━━━━━━\u001b[0m \u001b[32m43.5/43.5 kB\u001b[0m \u001b[31m2.0 MB/s\u001b[0m eta \u001b[36m0:00:00\u001b[0m\n",
            "\u001b[?25h  Preparing metadata (setup.py) ... \u001b[?25l\u001b[?25hdone\n",
            "Collecting docopt (from hdfs)\n",
            "  Downloading docopt-0.6.2.tar.gz (25 kB)\n",
            "  Preparing metadata (setup.py) ... \u001b[?25l\u001b[?25hdone\n",
            "Requirement already satisfied: requests>=2.7.0 in /usr/local/lib/python3.11/dist-packages (from hdfs) (2.32.3)\n",
            "Requirement already satisfied: six>=1.9.0 in /usr/local/lib/python3.11/dist-packages (from hdfs) (1.17.0)\n",
            "Requirement already satisfied: charset-normalizer<4,>=2 in /usr/local/lib/python3.11/dist-packages (from requests>=2.7.0->hdfs) (3.4.1)\n",
            "Requirement already satisfied: idna<4,>=2.5 in /usr/local/lib/python3.11/dist-packages (from requests>=2.7.0->hdfs) (3.10)\n",
            "Requirement already satisfied: urllib3<3,>=1.21.1 in /usr/local/lib/python3.11/dist-packages (from requests>=2.7.0->hdfs) (2.3.0)\n",
            "Requirement already satisfied: certifi>=2017.4.17 in /usr/local/lib/python3.11/dist-packages (from requests>=2.7.0->hdfs) (2024.12.14)\n",
            "Building wheels for collected packages: hdfs, docopt\n",
            "  Building wheel for hdfs (setup.py) ... \u001b[?25l\u001b[?25hdone\n",
            "  Created wheel for hdfs: filename=hdfs-2.7.3-py3-none-any.whl size=34324 sha256=02b2710bbad71b4001ce894c143e93b4b0ae59e66ea92a7641bc683fbcd3399b\n",
            "  Stored in directory: /root/.cache/pip/wheels/b9/1d/dc/eb0833be25464c359903d356c4204721c6a672c26ff164cdc3\n",
            "  Building wheel for docopt (setup.py) ... \u001b[?25l\u001b[?25hdone\n",
            "  Created wheel for docopt: filename=docopt-0.6.2-py2.py3-none-any.whl size=13706 sha256=8c29fef4600a85772fe5d56cb6999264016ec637fc6359a929af33c151cabc7c\n",
            "  Stored in directory: /root/.cache/pip/wheels/1a/b0/8c/4b75c4116c31f83c8f9f047231251e13cc74481cca4a78a9ce\n",
            "Successfully built hdfs docopt\n",
            "Installing collected packages: docopt, hdfs\n",
            "Successfully installed docopt-0.6.2 hdfs-2.7.3\n"
          ]
        }
      ]
    },
    {
      "cell_type": "markdown",
      "source": [
        "Load csv file into Hadoop HDFS"
      ],
      "metadata": {
        "id": "R-zvZnSNv0fV"
      }
    },
    {
      "cell_type": "code",
      "source": [
        "# prompt: Load csv file into Hadoop HDFS\n",
        "\n",
        "from hdfs import InsecureClient\n",
        "\n",
        "# Replace with your Hadoop Namenode details\n",
        "hdfs_namenode = 'http://localhost:9870'  # Example: 'http://your-namenode-host:port'\n",
        "hdfs_user = 'your_hdfs_user' # Example: 'hadoop'\n",
        "\n",
        "# Create an HDFS client\n",
        "client = InsecureClient(hdfs_namenode, user=hdfs_user)\n",
        "\n",
        "# Replace with the actual path to your CSV file in Colab\n",
        "local_csv_file_path = 'finaldata.csv'\n",
        "\n",
        "# Replace with the desired HDFS path where you want to store the CSV file\n",
        "hdfs_csv_file_path = '/user/your_hdfs_user/finaldata.csv' # Example: '/user/your_username/data.csv'\n",
        "\n",
        "\n",
        "# Upload the CSV file to HDFS\n",
        "try:\n",
        "    client.upload(hdfs_csv_file_path, local_csv_file_path)\n",
        "    print(f\"File '{local_csv_file_path}' uploaded to HDFS at '{hdfs_csv_file_path}' successfully.\")\n",
        "\n",
        "except Exception as e:\n",
        "    print(f\"Error uploading file to HDFS: {e}\")"
      ],
      "metadata": {
        "id": "nNkYKJi5v6P6"
      },
      "execution_count": null,
      "outputs": []
    }
  ]
}