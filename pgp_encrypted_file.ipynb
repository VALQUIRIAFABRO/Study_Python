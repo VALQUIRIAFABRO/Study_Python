{
  "nbformat": 4,
  "nbformat_minor": 0,
  "metadata": {
    "colab": {
      "provenance": [],
      "authorship_tag": "ABX9TyOQ4dPmna9/+wpEzXudcReZ",
      "include_colab_link": true
    },
    "kernelspec": {
      "name": "python3",
      "display_name": "Python 3"
    },
    "language_info": {
      "name": "python"
    }
  },
  "cells": [
    {
      "cell_type": "markdown",
      "metadata": {
        "id": "view-in-github",
        "colab_type": "text"
      },
      "source": [
        "<a href=\"https://colab.research.google.com/github/VALQUIRIAFABRO/Study_Python/blob/master/pgp_encrypted_file.ipynb\" target=\"_parent\"><img src=\"https://colab.research.google.com/assets/colab-badge.svg\" alt=\"Open In Colab\"/></a>"
      ]
    },
    {
      "cell_type": "markdown",
      "source": [
        "## PGP-encrypted file\n",
        "\n",
        "Python function that decrypts a PGP-encrypted file named data.pgp and saves the decrypted content to a file named data.csv using the gnupg library.\n",
        "\n",
        "Make sure to replace 'your_passphrase' with the actual passphrase used for decryption. Ensure that the gnupg library is installed in your environment (pip install python-gnupg)."
      ],
      "metadata": {
        "id": "6cDGQF1Ovfbz"
      }
    },
    {
      "cell_type": "code",
      "execution_count": null,
      "metadata": {
        "id": "09DxjXcBva6g"
      },
      "outputs": [],
      "source": [
        "!pip install python-gnupg pandas hdfs"
      ]
    },
    {
      "cell_type": "code",
      "source": [
        "# Since Google Colab doesn’t provide a traditional terminal interface to handle interactive commands like gpg --gen-key, we’ll need to work around this limitation.\n",
        "# Generate GPG Key Locally: On your local machine, open a terminal and run\n",
        "\n",
        "# Generate key\n",
        "# gpg --gen-key\n",
        "\n",
        "# list keys\n",
        "# gpg --list-keys\n",
        "\n",
        "# Export the public key:\n",
        "# gpg --export -a \"your_email@example.com\" > public_key.asc\n",
        "\n",
        "# Export the private key:\n",
        "# gpg --export-secret-key -a \"your_email@example.com\" > private_key.asc"
      ],
      "metadata": {
        "id": "SWiOa7HF0A_c"
      },
      "execution_count": null,
      "outputs": []
    },
    {
      "cell_type": "code",
      "source": [
        "#Upload keys to Google Colab\n",
        "from google.colab import files\n",
        "\n",
        "uploaded = files.upload()"
      ],
      "metadata": {
        "id": "ie1w3uh9ADa_"
      },
      "execution_count": null,
      "outputs": []
    },
    {
      "cell_type": "markdown",
      "source": [],
      "metadata": {
        "id": "WDlDsEEQEhLu"
      }
    },
    {
      "cell_type": "code",
      "source": [
        "# Upload Your Keys to Google Colab: public_key.asc and private_key.asc files to your Colab environment\n",
        "# The ideal encoding for GPG keys is UTF-8\n",
        "\n",
        "!gpg --import public_key.asc\n",
        "!gpg --import private_key.asc\n"
      ],
      "metadata": {
        "id": "_yRB-Zah34JC"
      },
      "execution_count": null,
      "outputs": []
    },
    {
      "cell_type": "markdown",
      "source": [
        "Function that generates sample data and saves it as an csv and encrypted PGP file locally."
      ],
      "metadata": {
        "id": "QSLRul7Ryznz"
      }
    },
    {
      "cell_type": "code",
      "source": [
        "import os\n",
        "\n",
        "os.makedirs('/content/.gnupg', exist_ok=True)\n",
        "\n",
        "gpg = gnupg.GPG()\n",
        "\n",
        "gpg = gnupg.GPG(verbose=True)\n",
        "\n",
        "!chmod 700 /content/.gnupg\n"
      ],
      "metadata": {
        "id": "GFJCQ3q1GVnS"
      },
      "execution_count": null,
      "outputs": []
    },
    {
      "cell_type": "code",
      "source": [
        "import os\n",
        "import pandas as pd\n",
        "import random\n",
        "import gnupg\n",
        "from datetime import datetime, timedelta\n",
        "\n",
        "def generate_pgp_encrypted_file():\n",
        "    # Sample data generation\n",
        "    base_time = datetime.now()\n",
        "    data = {\n",
        "        'name': [f'Name{i}' for i in range(1, 11)],\n",
        "        'age': [random.randint(20, 60) for _ in range(10)],\n",
        "        'profession': [f'Profession{i}' for i in range(1, 11)],\n",
        "        'years_of_experience': [random.randint(1, 30) for _ in range(10)],\n",
        "        'activity': [f'Activity{i}' for i in range(1, 11)],\n",
        "        'datetime': [base_time + timedelta(seconds=i) for i in range(10)]\n",
        "    }\n",
        "    df = pd.DataFrame(data)\n",
        "\n",
        "    # Create a unique filename with datetime\n",
        "    current_time = datetime.now().strftime(\"%Y%m%d_%H%M%S\")\n",
        "    csv_filename = f'data_{current_time}.csv'\n",
        "    df.to_csv(csv_filename, index=False)\n",
        "\n",
        "    # Ensure the gnupghome directory exists and set permissions\n",
        "    os.makedirs('/content/.gnupg', exist_ok=True)\n",
        "    os.system('chmod 700 /content/.gnupg')  # Set permissions\n",
        "\n",
        "    # Initialize GPG\n",
        "    gpg = gnupg.GPG(gnupghome='/content/.gnupg')\n",
        "\n",
        "    # Import the keys with passphrase\n",
        "    passphrase = 'passphrase'          #'your_passphrase_here'\n",
        "    with open('public_key.asc', 'r') as f:\n",
        "        import_result = gpg.import_keys(f.read())\n",
        "\n",
        "    with open('private_key.asc', 'r') as f:\n",
        "        gpg.import_keys(f.read(), passphrase=passphrase)\n",
        "\n",
        "    # Get the fingerprint of the imported key\n",
        "    fingerprints = [key['fingerprint'] for key in gpg.list_keys()]\n",
        "    if fingerprints:\n",
        "        # Trust the key with the fingerprint\n",
        "        for fingerprint in fingerprints:\n",
        "            gpg.trust_keys(fingerprint, 'TRUST_ULTIMATE')\n",
        "\n",
        "        # Encrypt the file\n",
        "        with open(csv_filename, 'rb') as f:\n",
        "            status = gpg.encrypt_file(\n",
        "                f,\n",
        "                recipients=['your_email@email.com'], # Replace with the actual recipient's email\n",
        "                output=f'data_{current_time}.gpg'\n",
        "            )\n",
        "\n",
        "        if status.ok:\n",
        "            print('File encrypted successfully.')\n",
        "        else:\n",
        "            print('Encryption failed:', status.stderr)\n",
        "    else:\n",
        "        print('No fingerprints found. Key import might have failed.')\n",
        "\n",
        "generate_pgp_encrypted_file()\n"
      ],
      "metadata": {
        "colab": {
          "base_uri": "https://localhost:8080/"
        },
        "id": "ype1-bhTHvvP",
        "outputId": "172e8cc3-17b2-46dc-d722-ce6627a9370e"
      },
      "execution_count": null,
      "outputs": [
        {
          "output_type": "stream",
          "name": "stdout",
          "text": [
            "File encrypted successfully.\n"
          ]
        }
      ]
    },
    {
      "cell_type": "markdown",
      "source": [
        "Decrypt the file"
      ],
      "metadata": {
        "id": "sVIrmlQI0-nT"
      }
    },
    {
      "cell_type": "code",
      "source": [
        "import os\n",
        "import gnupg\n",
        "\n",
        "def import_keys(gpg, public_key_file, private_key_file, passphrase):\n",
        "    # Import the public key\n",
        "    with open(public_key_file, 'r') as f:\n",
        "        gpg.import_keys(f.read())\n",
        "\n",
        "    # Import the private key with passphrase\n",
        "    with open(private_key_file, 'r') as f:\n",
        "        gpg.import_keys(f.read(), passphrase=passphrase)\n",
        "\n",
        "    # List all keys in the keyring to verify\n",
        "    print(\"Public Keys:\", gpg.list_keys())\n",
        "    print(\"Private Keys:\", gpg.list_keys(secret=True))\n",
        "\n",
        "def decrypt_pgp_file(gpg, input_file, output_file, passphrase):\n",
        "    # Open the encrypted file\n",
        "    with open(input_file, 'rb') as f:\n",
        "        # Decrypt the file\n",
        "        status = gpg.decrypt_file(f, passphrase=passphrase, output=output_file)\n",
        "\n",
        "    # Check the status of the decryption\n",
        "    if status.ok:\n",
        "        print(f\"File decrypted successfully. Saved as: {output_file}\")\n",
        "    else:\n",
        "        print(f\"Failed to decrypt the file. Status: {status.status}\")\n",
        "        print(f\"Error message: {status.stderr}\")\n",
        "\n",
        "# Initialize the GnuPG object\n",
        "gpg = gnupg.GPG(gnupghome='/content/.gnupg')\n",
        "\n",
        "# Set the passphrase for the private key\n",
        "passphrase = 'passphrase' # Replace with your actual passphrase\n",
        "\n",
        "# Import the keys\n",
        "import_keys(gpg, 'public_key.asc', 'private_key.asc', passphrase)\n",
        "\n",
        "# Example usage to decrypt the file\n",
        "input_file = 'data_20250121_230851.gpg' # Replace with your gpg file to be decrypt\n",
        "output_file = 'finaldata.csv'\n",
        "\n",
        "decrypt_pgp_file(gpg, input_file, output_file, passphrase)"
      ],
      "metadata": {
        "id": "BzhuZ9yeJLFZ"
      },
      "execution_count": null,
      "outputs": []
    },
    {
      "cell_type": "code",
      "source": [
        "!pip install hdfs"
      ],
      "metadata": {
        "id": "JD68yclpKT6Y"
      },
      "execution_count": null,
      "outputs": []
    },
    {
      "cell_type": "markdown",
      "source": [
        "Load csv file into Hadoop HDFS"
      ],
      "metadata": {
        "id": "R-zvZnSNv0fV"
      }
    },
    {
      "cell_type": "code",
      "source": [
        "# prompt: Load csv file into Hadoop HDFS\n",
        "\n",
        "from hdfs import InsecureClient\n",
        "\n",
        "# Replace with your Hadoop Namenode details\n",
        "hdfs_namenode = 'http://localhost:9870'  # Example: 'http://your-namenode-host:port'\n",
        "hdfs_user = 'your_hdfs_user' # Example: 'hadoop'\n",
        "\n",
        "# Create an HDFS client\n",
        "client = InsecureClient(hdfs_namenode, user=hdfs_user)\n",
        "\n",
        "# Replace with the actual path to your CSV file in Colab\n",
        "local_csv_file_path = 'finaldata.csv'\n",
        "\n",
        "# Replace with the desired HDFS path where you want to store the CSV file\n",
        "hdfs_csv_file_path = '/user/your_hdfs_user/finaldata.csv' # Example: '/user/your_username/data.csv'\n",
        "\n",
        "\n",
        "# Upload the CSV file to HDFS\n",
        "try:\n",
        "    client.upload(hdfs_csv_file_path, local_csv_file_path)\n",
        "    print(f\"File '{local_csv_file_path}' uploaded to HDFS at '{hdfs_csv_file_path}' successfully.\")\n",
        "\n",
        "except Exception as e:\n",
        "    print(f\"Error uploading file to HDFS: {e}\")"
      ],
      "metadata": {
        "id": "nNkYKJi5v6P6"
      },
      "execution_count": null,
      "outputs": []
    }
  ]
}